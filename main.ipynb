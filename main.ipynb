{
 "cells": [
  {
   "cell_type": "code",
   "execution_count": 1,
   "metadata": {},
   "outputs": [],
   "source": [
    "import torch"
   ]
  },
  {
   "cell_type": "code",
   "execution_count": 5,
   "metadata": {},
   "outputs": [
    {
     "name": "stdout",
     "output_type": "stream",
     "text": [
      "tensor([7, 4, 3, 2, 6])\n",
      "torch.int64\n",
      "torch.LongTensor\n"
     ]
    }
   ],
   "source": [
    "array = torch.tensor([7, 4, 3, 2, 6])\n",
    "print(array)\n",
    "print(array.dtype)\n",
    "print(array.type())"
   ]
  },
  {
   "cell_type": "code",
   "execution_count": 6,
   "metadata": {},
   "outputs": [
    {
     "name": "stdout",
     "output_type": "stream",
     "text": [
      "tensor([7.1000, 4.6000, 3.8000, 2.0000, 6.0000])\n",
      "torch.float32\n",
      "torch.FloatTensor\n"
     ]
    }
   ],
   "source": [
    "array = torch.tensor([7.1, 4.6, 3.8, 2.0, 6])\n",
    "print(array)\n",
    "print(array.dtype)\n",
    "print(array.type())"
   ]
  },
  {
   "cell_type": "code",
   "execution_count": 7,
   "metadata": {},
   "outputs": [
    {
     "name": "stdout",
     "output_type": "stream",
     "text": [
      "tensor([7., 4., 3., 2., 6.])\n",
      "torch.float32\n",
      "torch.FloatTensor\n"
     ]
    }
   ],
   "source": [
    "array = torch.FloatTensor([7, 4, 3, 2, 6])\n",
    "print(array)\n",
    "print(array.dtype)\n",
    "print(array.type())"
   ]
  },
  {
   "cell_type": "code",
   "execution_count": 8,
   "metadata": {},
   "outputs": [
    {
     "name": "stdout",
     "output_type": "stream",
     "text": [
      "tensor([7., 4., 3., 2., 6.])\n",
      "torch.float32\n",
      "torch.FloatTensor\n"
     ]
    }
   ],
   "source": [
    "array = torch.tensor([7, 4, 3, 2, 6])\n",
    "\n",
    "array = array.type(torch.FloatTensor)\n",
    "print(array)\n",
    "print(array.dtype)\n",
    "print(array.type())"
   ]
  },
  {
   "cell_type": "code",
   "execution_count": 18,
   "metadata": {},
   "outputs": [
    {
     "data": {
      "text/plain": [
       "tensor([[7],\n",
       "        [4],\n",
       "        [3],\n",
       "        [2],\n",
       "        [6]])"
      ]
     },
     "execution_count": 18,
     "metadata": {},
     "output_type": "execute_result"
    }
   ],
   "source": [
    "v = torch.tensor([7, 4, 3, 2, 6])\n",
    "v_column = v.view(5,1)\n",
    "#array = v.view(-1,1)\n",
    "v_column"
   ]
  },
  {
   "cell_type": "code",
   "execution_count": 28,
   "metadata": {},
   "outputs": [
    {
     "name": "stdout",
     "output_type": "stream",
     "text": [
      "tensor([1., 1., 2., 3., 4.])\n",
      "[0. 1. 2. 3. 4.]\n"
     ]
    }
   ],
   "source": [
    "#numpy to tensor\n",
    "\n",
    "import numpy as np\n",
    "\n",
    "numpy_array = np.array([0.0, 1.0, 2.0, 3.0, 4.0])\n",
    "\n",
    "torch_tensor = torch.from_numpy(numpy_array)\n",
    "\n",
    "\n",
    "\n",
    "back_to_numpy = torch_tensor.numpy()\n",
    "\n",
    "torch_tensor = torch.tensor([1.0, 1.0, 2.0, 3.0, 4.0])\n",
    "\n",
    "print(torch_tensor)\n",
    "print(back_to_numpy)\n"
   ]
  },
  {
   "cell_type": "code",
   "execution_count": 31,
   "metadata": {},
   "outputs": [
    {
     "name": "stdout",
     "output_type": "stream",
     "text": [
      "tensor([ 0.1000,  2.0000,  0.3000, 10.1000], dtype=torch.float64)\n"
     ]
    }
   ],
   "source": [
    "#pandas to tensor\n",
    "\n",
    "import pandas as pd \n",
    "\n",
    "pandas_series = pd.Series([0.1, 2, 0.3, 10.1])\n",
    "\n",
    "pandas_to_torch = torch.from_numpy(pandas_series.values)#要先轉成numpy array才能用torch.from_numpy\n",
    "\n",
    "\n",
    "print(pandas_to_torch)\n"
   ]
  },
  {
   "cell_type": "code",
   "execution_count": 32,
   "metadata": {},
   "outputs": [
    {
     "data": {
      "text/plain": [
       "[0, 1, 2, 3]"
      ]
     },
     "execution_count": 32,
     "metadata": {},
     "output_type": "execute_result"
    }
   ],
   "source": [
    "#tensor to list\n",
    "\n",
    "this_tensor = torch.tensor([0,1,2,3])\n",
    "\n",
    "torch_to_list = this_tensor.tolist()\n",
    "\n",
    "torch_to_list"
   ]
  },
  {
   "cell_type": "code",
   "execution_count": 34,
   "metadata": {},
   "outputs": [
    {
     "data": {
      "text/plain": [
       "0"
      ]
     },
     "execution_count": 34,
     "metadata": {},
     "output_type": "execute_result"
    }
   ],
   "source": [
    "#tensor\n",
    "\n",
    "this_tensor = torch.tensor([0,1,2,3])\n",
    "\n",
    "this_tensor[0].item() #get value"
   ]
  },
  {
   "cell_type": "code",
   "execution_count": 45,
   "metadata": {},
   "outputs": [
    {
     "data": {
      "text/plain": [
       "tensor([100,   1,   2,  10,  12])"
      ]
     },
     "execution_count": 45,
     "metadata": {},
     "output_type": "execute_result"
    }
   ],
   "source": [
    "c = torch.tensor([20,1,2,3,4])\n",
    "c[0] = 100\n",
    "\n",
    "c[3:5] = torch.tensor([5,6]) * 2\n",
    "\n",
    "d = c[1:4]\n",
    "\n",
    "c"
   ]
  }
 ],
 "metadata": {
  "kernelspec": {
   "display_name": "Python 3",
   "language": "python",
   "name": "python3"
  },
  "language_info": {
   "codemirror_mode": {
    "name": "ipython",
    "version": 3
   },
   "file_extension": ".py",
   "mimetype": "text/x-python",
   "name": "python",
   "nbconvert_exporter": "python",
   "pygments_lexer": "ipython3",
   "version": "3.11.0"
  }
 },
 "nbformat": 4,
 "nbformat_minor": 2
}
